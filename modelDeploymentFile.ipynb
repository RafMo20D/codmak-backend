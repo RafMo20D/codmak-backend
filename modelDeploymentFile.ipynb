{
 "cells": [
  {
   "cell_type": "code",
   "execution_count": 4,
   "id": "7fc5ff77-9dcb-4de2-8a99-38444fed9e45",
   "metadata": {},
   "outputs": [],
   "source": [
    "import tarfile\n",
    "import os\n",
    "\n",
    "# Define the path to your model directory and the output archive file\n",
    "model_directory = 'Model/fine_tuned_bert_model.pt'  # Path to your model directory\n",
    "output_archive = 'newModel'  # Desired path for the output .tar.gz file\n"
   ]
  },
  {
   "cell_type": "code",
   "execution_count": 10,
   "id": "7b23c14d-cd60-466b-896d-70233545d4e4",
   "metadata": {},
   "outputs": [
    {
     "name": "stdout",
     "output_type": "stream",
     "text": [
      "Requirement already satisfied: boto3 in /opt/conda/lib/python3.10/site-packages (1.34.57)\n",
      "Requirement already satisfied: transformers in /opt/conda/lib/python3.10/site-packages (4.31.0)\n",
      "Requirement already satisfied: botocore<1.35.0,>=1.34.57 in /opt/conda/lib/python3.10/site-packages (from boto3) (1.34.57)\n",
      "Requirement already satisfied: jmespath<2.0.0,>=0.7.1 in /opt/conda/lib/python3.10/site-packages (from boto3) (1.0.1)\n",
      "Requirement already satisfied: s3transfer<0.11.0,>=0.10.0 in /opt/conda/lib/python3.10/site-packages (from boto3) (0.10.0)\n",
      "Requirement already satisfied: filelock in /opt/conda/lib/python3.10/site-packages (from transformers) (3.13.1)\n",
      "Requirement already satisfied: huggingface-hub<1.0,>=0.14.1 in /opt/conda/lib/python3.10/site-packages (from transformers) (0.20.2)\n",
      "Requirement already satisfied: numpy>=1.17 in /opt/conda/lib/python3.10/site-packages (from transformers) (1.26.3)\n",
      "Requirement already satisfied: packaging>=20.0 in /opt/conda/lib/python3.10/site-packages (from transformers) (23.2)\n",
      "Requirement already satisfied: pyyaml>=5.1 in /opt/conda/lib/python3.10/site-packages (from transformers) (6.0.1)\n",
      "Requirement already satisfied: regex!=2019.12.17 in /opt/conda/lib/python3.10/site-packages (from transformers) (2023.12.25)\n",
      "Requirement already satisfied: requests in /opt/conda/lib/python3.10/site-packages (from transformers) (2.31.0)\n",
      "Requirement already satisfied: tokenizers!=0.11.3,<0.14,>=0.11.1 in /opt/conda/lib/python3.10/site-packages (from transformers) (0.13.3)\n",
      "Requirement already satisfied: safetensors>=0.3.1 in /opt/conda/lib/python3.10/site-packages (from transformers) (0.3.3)\n",
      "Requirement already satisfied: tqdm>=4.27 in /opt/conda/lib/python3.10/site-packages (from transformers) (4.66.1)\n",
      "Requirement already satisfied: python-dateutil<3.0.0,>=2.1 in /opt/conda/lib/python3.10/site-packages (from botocore<1.35.0,>=1.34.57->boto3) (2.8.2)\n",
      "Requirement already satisfied: urllib3<2.1,>=1.25.4 in /opt/conda/lib/python3.10/site-packages (from botocore<1.35.0,>=1.34.57->boto3) (1.26.18)\n",
      "Requirement already satisfied: fsspec>=2023.5.0 in /opt/conda/lib/python3.10/site-packages (from huggingface-hub<1.0,>=0.14.1->transformers) (2023.6.0)\n",
      "Requirement already satisfied: typing-extensions>=3.7.4.3 in /opt/conda/lib/python3.10/site-packages (from huggingface-hub<1.0,>=0.14.1->transformers) (4.5.0)\n",
      "Requirement already satisfied: charset-normalizer<4,>=2 in /opt/conda/lib/python3.10/site-packages (from requests->transformers) (3.3.2)\n",
      "Requirement already satisfied: idna<4,>=2.5 in /opt/conda/lib/python3.10/site-packages (from requests->transformers) (3.6)\n",
      "Requirement already satisfied: certifi>=2017.4.17 in /opt/conda/lib/python3.10/site-packages (from requests->transformers) (2023.11.17)\n",
      "Requirement already satisfied: six>=1.5 in /opt/conda/lib/python3.10/site-packages (from python-dateutil<3.0.0,>=2.1->botocore<1.35.0,>=1.34.57->boto3) (1.16.0)\n",
      "Note: you may need to restart the kernel to use updated packages.\n"
     ]
    }
   ],
   "source": [
    "pip install boto3 transformers\n"
   ]
  },
  {
   "cell_type": "code",
   "execution_count": 5,
   "id": "a45252d4-2a2e-4585-8408-2643d4b22d6c",
   "metadata": {},
   "outputs": [
    {
     "name": "stdout",
     "output_type": "stream",
     "text": [
      "Packaged model and inference script into newModel\n"
     ]
    }
   ],
   "source": [
    "# Creating the .tar.gz archive\n",
    "with tarfile.open(output_archive, \"w:gz\") as tar_handle:\n",
    "    for root, dirs, files in os.walk(model_directory):\n",
    "        for file in files:\n",
    "            tar_handle.add(os.path.join(root, file), arcname=file)\n",
    "\n",
    "print(f\"Packaged model and inference script into {output_archive}\")"
   ]
  },
  {
   "cell_type": "code",
   "execution_count": 6,
   "id": "70087f94-2bdc-40d2-88f4-3e6501de3056",
   "metadata": {},
   "outputs": [
    {
     "name": "stdout",
     "output_type": "stream",
     "text": [
      "Uploaded the model to s3://aihackathon149/models/2024-03-07/aihackathon-model.tar.gz\n"
     ]
    }
   ],
   "source": [
    "import boto3\n",
    "\n",
    "s3_resource = boto3.resource('s3')\n",
    "bucket_name = 'aihackathon149' \n",
    "s3_key = 'models/2024-03-07/aihackathon-model.tar.gz' \n",
    "\n",
    "# Upload the .tar.gz file to S3\n",
    "s3_resource.Bucket(bucket_name).upload_file(Filename=output_archive, Key=s3_key)\n",
    "\n",
    "print(f\"Uploaded the model to s3://{bucket_name}/{s3_key}\")"
   ]
  },
  {
   "cell_type": "code",
   "execution_count": 7,
   "id": "080c9c90-8539-48d8-b93b-b43d6e8155de",
   "metadata": {},
   "outputs": [],
   "source": [
    "from sagemaker.pytorch import PyTorchModel\n",
    "from sagemaker import get_execution_role\n",
    "\n",
    "role = get_execution_role()  # SageMaker execution role\n",
    "model_data = f's3://{bucket_name}/{s3_key}'  # S3 path to your packaged model\n",
    "\n"
   ]
  },
  {
   "cell_type": "code",
   "execution_count": 8,
   "id": "9748f831-95bc-4b16-834e-ae1cf977f2e7",
   "metadata": {},
   "outputs": [
    {
     "name": "stdout",
     "output_type": "stream",
     "text": [
      "Hello\n",
      "----!Hello 3\n",
      "Model deployed at endpoint: pytorch-inference-2024-03-07-07-22-10-795\n",
      "Hello 4\n"
     ]
    }
   ],
   "source": [
    "# Define the PyTorch model object\n",
    "print(\"Hello\")\n",
    "pytorch_model = PyTorchModel(model_data=model_data,\n",
    "                             role=role,\n",
    "                             entry_point='Model/inference.py',  # Your inference script\n",
    "                             framework_version='1.7.1',  # Match the version used for training\n",
    "                             py_version='py3')\n",
    "                        \n",
    "# Deploy the model to an endpoint\n",
    "predictor = pytorch_model.deploy(instance_type='ml.m5.large', initial_instance_count=1)\n",
    "print(\"Hello 3\")\n",
    "print(f\"Model deployed at endpoint: {predictor.endpoint_name}\")\n",
    "print(\"Hello 4\")"
   ]
  },
  {
   "cell_type": "code",
   "execution_count": null,
   "id": "89858aac-27b0-4d10-907d-9e0deedac781",
   "metadata": {},
   "outputs": [],
   "source": [
    "# Example test data\n",
    "test_data = 'Riyadh to Makka'\n",
    "\n",
    "# Get predictions\n",
    "response = predictor.predict(test_data)\n",
    "print(response)"
   ]
  },
  {
   "cell_type": "code",
   "execution_count": null,
   "id": "e535dda5-1692-4fd8-b3ae-26d540d4666f",
   "metadata": {},
   "outputs": [],
   "source": []
  }
 ],
 "metadata": {
  "kernelspec": {
   "display_name": "Python 3 (ipykernel)",
   "language": "python",
   "name": "python3"
  },
  "language_info": {
   "codemirror_mode": {
    "name": "ipython",
    "version": 3
   },
   "file_extension": ".py",
   "mimetype": "text/x-python",
   "name": "python",
   "nbconvert_exporter": "python",
   "pygments_lexer": "ipython3",
   "version": "3.10.13"
  }
 },
 "nbformat": 4,
 "nbformat_minor": 5
}
